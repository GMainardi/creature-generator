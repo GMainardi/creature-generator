{
 "cells": [
  {
   "cell_type": "code",
   "execution_count": 1,
   "metadata": {},
   "outputs": [],
   "source": [
    "from bardapi import Bard\n",
    "import base64\n",
    "import json\n",
    "import os"
   ]
  },
  {
   "cell_type": "code",
   "execution_count": 2,
   "metadata": {},
   "outputs": [],
   "source": [
    "class ImageAnotator:\n",
    "\n",
    "    def __init__(self) -> None:\n",
    "        self.bard = Bard(token=os.environ.get('BARD_TOKEN'))\n",
    "        self.prompt='''You are an assessment expert responsible for annotate images that will be used on a model's training. Your task is to create an annotation for a creature on a png-image according to the following requirements:\n",
    "\n",
    "\n",
    "    1. Your answer must be in a valid JSON format with at least one field called “command”, so your fully answer must be between braces;\n",
    "    2. The “command” field must contain a single paragraph with the annotation;\n",
    "    3. The annotation must be in a command format, it will be used as the input for the other model;\n",
    "4. Do not give information that refer to an image, like positioning or background;\n",
    "\n",
    "Desired response format example:” { “Command”: “Create a creature with the body of a toy. The body should be made of plastic and have a toy-like appearance. The creature should have a simple, child-like design. The creature should be able to move its limbs and head. The creature should have a friendly expression.”}”\n",
    "\n",
    "\n",
    "Annotate the following image:'''\n",
    "\n",
    "    def __get_command(self, answer: str) -> str:\n",
    "        start_json = answer.find('{')\n",
    "        end_jason = answer.rfind('}')\n",
    "        json_str = answer[start_json:end_jason+1]\n",
    "\n",
    "        try:\n",
    "            file = json.loads(json_str.lower())\n",
    "            return file['command']\n",
    "        except:\n",
    "            return None\n",
    "    \n",
    "    def annot_image(self, image_path) -> str:\n",
    "        \n",
    "        with open(image_path, \"rb\") as image_file:\n",
    "            bard_answer = self.bard.ask_about_image(self.prompt, image_file.read())\n",
    "\n",
    "        return self.__get_command(bard_answer['content'])\n"
   ]
  },
  {
   "cell_type": "code",
   "execution_count": 3,
   "metadata": {},
   "outputs": [],
   "source": [
    "def save_annotation(image_path, annotation):\n",
    "    # create a folder to save the annotations\n",
    "    sample_name = image_path.split('/')[-1].split('.')[0]\n",
    "\n",
    "    if not os.path.exists(f'./data/{sample_name}'):\n",
    "        os.mkdir(f'./data/{sample_name}')\n",
    "\n",
    "    with open(f'./data/{sample_name}/annotation.txt', 'w') as f:\n",
    "        f.write(annotation)\n",
    "\n",
    "    #move image to the folder\n",
    "    with open(image_path, 'rb') as f:\n",
    "        image_string = base64.b64encode(f.read()).decode('utf-8')\n",
    "\n",
    "    with open(f'./data/{sample_name}/image.png', 'wb') as f:\n",
    "        f.write(image_string)\n",
    "    \n",
    "    os.remove(image_path)"
   ]
  },
  {
   "cell_type": "code",
   "execution_count": 4,
   "metadata": {},
   "outputs": [],
   "source": [
    "from tqdm import tqdm\n"
   ]
  },
  {
   "cell_type": "code",
   "execution_count": 5,
   "metadata": {},
   "outputs": [
    {
     "name": "stderr",
     "output_type": "stream",
     "text": [
      "  0%|          | 18/38298 [12:57<459:14:00, 43.19s/it]\n",
      "  0%|          | 0/38280 [00:00<?, ?it/s]"
     ]
    }
   ],
   "source": [
    "while True:\n",
    "    try:\n",
    "        annotator = ImageAnotator()\n",
    "\n",
    "        for image in tqdm(os.listdir('images')):\n",
    "            annotation = None\n",
    "            tries = 0\n",
    "\n",
    "            image_path = f'./images/{image}'\n",
    "\n",
    "            while annotation is None and tries < 3:\n",
    "                tries += 1\n",
    "                annotation = annotator.annot_image(image_path)\n",
    "\n",
    "            tries = 0\n",
    "            if annotation is None:\n",
    "                os.rename(image_path, f'./annot_fail/{image}')\n",
    "                continue\n",
    "            save_annotation(image_path, annotation)\n",
    "    except:\n",
    "        pass"
   ]
  },
  {
   "cell_type": "code",
   "execution_count": null,
   "metadata": {},
   "outputs": [],
   "source": []
  }
 ],
 "metadata": {
  "kernelspec": {
   "display_name": "Python 3",
   "language": "python",
   "name": "python3"
  },
  "language_info": {
   "codemirror_mode": {
    "name": "ipython",
    "version": 3
   },
   "file_extension": ".py",
   "mimetype": "text/x-python",
   "name": "python",
   "nbconvert_exporter": "python",
   "pygments_lexer": "ipython3",
   "version": "3.11.5"
  }
 },
 "nbformat": 4,
 "nbformat_minor": 2
}
