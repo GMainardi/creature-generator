{
 "cells": [
  {
   "cell_type": "code",
   "execution_count": 1,
   "metadata": {},
   "outputs": [],
   "source": [
    "from selenium import webdriver\n",
    "from selenium.webdriver.common.by import By\n",
    "from time import sleep\n",
    "import os\n",
    "import urllib"
   ]
  },
  {
   "cell_type": "code",
   "execution_count": 2,
   "metadata": {},
   "outputs": [],
   "source": [
    "\n",
    "url =f'http://www.spore.com/sporepedia#qry=ftr-creature%3Aview-newest'\n",
    "\n",
    "options = webdriver.ChromeOptions()\n",
    "#options.add_argument('headless')\n",
    "\n",
    "download_path = os.path.join(os.getcwd(), 'data')\n",
    "\n",
    "options.add_experimental_option(\"prefs\", {\n",
    "    \"download.default_directory\": download_path\n",
    "    })\n",
    "driver = webdriver.Chrome(options=options)\n",
    "driver.get(url)\n",
    "sleep(5)"
   ]
  },
  {
   "cell_type": "code",
   "execution_count": 3,
   "metadata": {},
   "outputs": [
    {
     "name": "stdout",
     "output_type": "stream",
     "text": [
      "downloaded: 43400, curr page: 2495\r"
     ]
    },
    {
     "ename": "ElementNotInteractableException",
     "evalue": "Message: element not interactable\n  (Session info: chrome=118.0.5993.117)\nStacktrace:\n0   chromedriver                        0x0000000100b7c510 chromedriver + 4310288\n1   chromedriver                        0x0000000100b744bc chromedriver + 4277436\n2   chromedriver                        0x00000001007a79c4 chromedriver + 293316\n3   chromedriver                        0x00000001007ee798 chromedriver + 583576\n4   chromedriver                        0x00000001007e2eac chromedriver + 536236\n5   chromedriver                        0x00000001007e2774 chromedriver + 534388\n6   chromedriver                        0x0000000100827e60 chromedriver + 818784\n7   chromedriver                        0x00000001007e0fd0 chromedriver + 528336\n8   chromedriver                        0x00000001007e1e7c chromedriver + 532092\n9   chromedriver                        0x0000000100b42834 chromedriver + 4073524\n10  chromedriver                        0x0000000100b467fc chromedriver + 4089852\n11  chromedriver                        0x0000000100b46c58 chromedriver + 4090968\n12  chromedriver                        0x0000000100b4c8f8 chromedriver + 4114680\n13  chromedriver                        0x0000000100b47234 chromedriver + 4092468\n14  chromedriver                        0x0000000100b21604 chromedriver + 3937796\n15  chromedriver                        0x0000000100b63ee8 chromedriver + 4210408\n16  chromedriver                        0x0000000100b64064 chromedriver + 4210788\n17  chromedriver                        0x0000000100b74134 chromedriver + 4276532\n18  libsystem_pthread.dylib             0x000000018a91b034 _pthread_start + 136\n19  libsystem_pthread.dylib             0x000000018a915e3c thread_start + 8\n",
     "output_type": "error",
     "traceback": [
      "\u001b[0;31m---------------------------------------------------------------------------\u001b[0m",
      "\u001b[0;31mElementNotInteractableException\u001b[0m           Traceback (most recent call last)",
      "\u001b[1;32m/Users/guidoglufkemainardi/Documents/spore's nightmere/spore_scrap.ipynb Cell 3\u001b[0m line \u001b[0;36m7\n\u001b[1;32m      <a href='vscode-notebook-cell:/Users/guidoglufkemainardi/Documents/spore%27s%20nightmere/spore_scrap.ipynb#W2sZmlsZQ%3D%3D?line=2'>3</a>\u001b[0m \u001b[39mwhile\u001b[39;00m \u001b[39mTrue\u001b[39;00m:\n\u001b[1;32m      <a href='vscode-notebook-cell:/Users/guidoglufkemainardi/Documents/spore%27s%20nightmere/spore_scrap.ipynb#W2sZmlsZQ%3D%3D?line=3'>4</a>\u001b[0m \n\u001b[1;32m      <a href='vscode-notebook-cell:/Users/guidoglufkemainardi/Documents/spore%27s%20nightmere/spore_scrap.ipynb#W2sZmlsZQ%3D%3D?line=4'>5</a>\u001b[0m     \u001b[39m# click on submit button\u001b[39;00m\n\u001b[1;32m      <a href='vscode-notebook-cell:/Users/guidoglufkemainardi/Documents/spore%27s%20nightmere/spore_scrap.ipynb#W2sZmlsZQ%3D%3D?line=5'>6</a>\u001b[0m     submtit_button \u001b[39m=\u001b[39m driver\u001b[39m.\u001b[39mfind_element(By\u001b[39m.\u001b[39mXPATH, \u001b[39m'\u001b[39m\u001b[39m//*[@id=\u001b[39m\u001b[39m\"\u001b[39m\u001b[39masset-thumbnails\u001b[39m\u001b[39m\"\u001b[39m\u001b[39m]/div[1]/span[2]/span[14]/img\u001b[39m\u001b[39m'\u001b[39m)\n\u001b[0;32m----> <a href='vscode-notebook-cell:/Users/guidoglufkemainardi/Documents/spore%27s%20nightmere/spore_scrap.ipynb#W2sZmlsZQ%3D%3D?line=6'>7</a>\u001b[0m     submtit_button\u001b[39m.\u001b[39;49mclick()\n\u001b[1;32m      <a href='vscode-notebook-cell:/Users/guidoglufkemainardi/Documents/spore%27s%20nightmere/spore_scrap.ipynb#W2sZmlsZQ%3D%3D?line=8'>9</a>\u001b[0m     \u001b[39m# wait for reload\u001b[39;00m\n\u001b[1;32m     <a href='vscode-notebook-cell:/Users/guidoglufkemainardi/Documents/spore%27s%20nightmere/spore_scrap.ipynb#W2sZmlsZQ%3D%3D?line=9'>10</a>\u001b[0m     sleep(\u001b[39m1\u001b[39m)\n",
      "File \u001b[0;32m/Library/Frameworks/Python.framework/Versions/3.11/lib/python3.11/site-packages/selenium/webdriver/remote/webelement.py:93\u001b[0m, in \u001b[0;36mWebElement.click\u001b[0;34m(self)\u001b[0m\n\u001b[1;32m     91\u001b[0m \u001b[39mdef\u001b[39;00m \u001b[39mclick\u001b[39m(\u001b[39mself\u001b[39m) \u001b[39m-\u001b[39m\u001b[39m>\u001b[39m \u001b[39mNone\u001b[39;00m:\n\u001b[1;32m     92\u001b[0m \u001b[39m    \u001b[39m\u001b[39m\"\"\"Clicks the element.\"\"\"\u001b[39;00m\n\u001b[0;32m---> 93\u001b[0m     \u001b[39mself\u001b[39;49m\u001b[39m.\u001b[39;49m_execute(Command\u001b[39m.\u001b[39;49mCLICK_ELEMENT)\n",
      "File \u001b[0;32m/Library/Frameworks/Python.framework/Versions/3.11/lib/python3.11/site-packages/selenium/webdriver/remote/webelement.py:394\u001b[0m, in \u001b[0;36mWebElement._execute\u001b[0;34m(self, command, params)\u001b[0m\n\u001b[1;32m    392\u001b[0m     params \u001b[39m=\u001b[39m {}\n\u001b[1;32m    393\u001b[0m params[\u001b[39m\"\u001b[39m\u001b[39mid\u001b[39m\u001b[39m\"\u001b[39m] \u001b[39m=\u001b[39m \u001b[39mself\u001b[39m\u001b[39m.\u001b[39m_id\n\u001b[0;32m--> 394\u001b[0m \u001b[39mreturn\u001b[39;00m \u001b[39mself\u001b[39;49m\u001b[39m.\u001b[39;49m_parent\u001b[39m.\u001b[39;49mexecute(command, params)\n",
      "File \u001b[0;32m/Library/Frameworks/Python.framework/Versions/3.11/lib/python3.11/site-packages/selenium/webdriver/remote/webdriver.py:344\u001b[0m, in \u001b[0;36mWebDriver.execute\u001b[0;34m(self, driver_command, params)\u001b[0m\n\u001b[1;32m    342\u001b[0m response \u001b[39m=\u001b[39m \u001b[39mself\u001b[39m\u001b[39m.\u001b[39mcommand_executor\u001b[39m.\u001b[39mexecute(driver_command, params)\n\u001b[1;32m    343\u001b[0m \u001b[39mif\u001b[39;00m response:\n\u001b[0;32m--> 344\u001b[0m     \u001b[39mself\u001b[39;49m\u001b[39m.\u001b[39;49merror_handler\u001b[39m.\u001b[39;49mcheck_response(response)\n\u001b[1;32m    345\u001b[0m     response[\u001b[39m\"\u001b[39m\u001b[39mvalue\u001b[39m\u001b[39m\"\u001b[39m] \u001b[39m=\u001b[39m \u001b[39mself\u001b[39m\u001b[39m.\u001b[39m_unwrap_value(response\u001b[39m.\u001b[39mget(\u001b[39m\"\u001b[39m\u001b[39mvalue\u001b[39m\u001b[39m\"\u001b[39m, \u001b[39mNone\u001b[39;00m))\n\u001b[1;32m    346\u001b[0m     \u001b[39mreturn\u001b[39;00m response\n",
      "File \u001b[0;32m/Library/Frameworks/Python.framework/Versions/3.11/lib/python3.11/site-packages/selenium/webdriver/remote/errorhandler.py:229\u001b[0m, in \u001b[0;36mErrorHandler.check_response\u001b[0;34m(self, response)\u001b[0m\n\u001b[1;32m    227\u001b[0m         alert_text \u001b[39m=\u001b[39m value[\u001b[39m\"\u001b[39m\u001b[39malert\u001b[39m\u001b[39m\"\u001b[39m]\u001b[39m.\u001b[39mget(\u001b[39m\"\u001b[39m\u001b[39mtext\u001b[39m\u001b[39m\"\u001b[39m)\n\u001b[1;32m    228\u001b[0m     \u001b[39mraise\u001b[39;00m exception_class(message, screen, stacktrace, alert_text)  \u001b[39m# type: ignore[call-arg]  # mypy is not smart enough here\u001b[39;00m\n\u001b[0;32m--> 229\u001b[0m \u001b[39mraise\u001b[39;00m exception_class(message, screen, stacktrace)\n",
      "\u001b[0;31mElementNotInteractableException\u001b[0m: Message: element not interactable\n  (Session info: chrome=118.0.5993.117)\nStacktrace:\n0   chromedriver                        0x0000000100b7c510 chromedriver + 4310288\n1   chromedriver                        0x0000000100b744bc chromedriver + 4277436\n2   chromedriver                        0x00000001007a79c4 chromedriver + 293316\n3   chromedriver                        0x00000001007ee798 chromedriver + 583576\n4   chromedriver                        0x00000001007e2eac chromedriver + 536236\n5   chromedriver                        0x00000001007e2774 chromedriver + 534388\n6   chromedriver                        0x0000000100827e60 chromedriver + 818784\n7   chromedriver                        0x00000001007e0fd0 chromedriver + 528336\n8   chromedriver                        0x00000001007e1e7c chromedriver + 532092\n9   chromedriver                        0x0000000100b42834 chromedriver + 4073524\n10  chromedriver                        0x0000000100b467fc chromedriver + 4089852\n11  chromedriver                        0x0000000100b46c58 chromedriver + 4090968\n12  chromedriver                        0x0000000100b4c8f8 chromedriver + 4114680\n13  chromedriver                        0x0000000100b47234 chromedriver + 4092468\n14  chromedriver                        0x0000000100b21604 chromedriver + 3937796\n15  chromedriver                        0x0000000100b63ee8 chromedriver + 4210408\n16  chromedriver                        0x0000000100b64064 chromedriver + 4210788\n17  chromedriver                        0x0000000100b74134 chromedriver + 4276532\n18  libsystem_pthread.dylib             0x000000018a91b034 _pthread_start + 136\n19  libsystem_pthread.dylib             0x000000018a915e3c thread_start + 8\n"
     ]
    }
   ],
   "source": [
    "download_count = 0\n",
    "while True:\n",
    "\n",
    "    # click on submit button\n",
    "    submtit_button = driver.find_element(By.XPATH, '//*[@id=\"asset-thumbnails\"]/div[1]/span[2]/span[14]/img')\n",
    "    submtit_button.click()\n",
    "\n",
    "    # wait for reload\n",
    "    sleep(1)\n",
    "\n",
    "    # get all creatures from page\n",
    "    thumbnails = driver.find_elements(By.XPATH, '/html/body/div[1]/div[2]/div[3]/div[2]/div[5]/div')\n",
    "\n",
    "\n",
    "    rows = thumbnails[1:-1]\n",
    "    for row in rows:\n",
    "\n",
    "        creatures = row.find_elements(By.XPATH, 'div')\n",
    "\n",
    "        for creature in creatures:\n",
    "            \n",
    "            # get creature name\n",
    "            name = creature.find_element(By.CLASS_NAME, \"cardtopmid\").find_element(By.TAG_NAME, \"h3\").text\n",
    "\n",
    "            # get creatrue creator\n",
    "            creator = creature.find_element(By.CLASS_NAME, \"js-creator-name\").text\n",
    "\n",
    "\n",
    "            img = creature.find_element(By.CLASS_NAME, \"thumb-image-download\")\n",
    "            img_link = img.get_attribute('src')\n",
    "            try:\n",
    "                # download image\n",
    "                urllib.request.urlretrieve(img_link, os.path.join(os.getcwd(), 'data', f'{name}_{creator}.png'))\n",
    "                download_count += 1\n",
    "\n",
    "                print(f'downloaded: {download_count}, curr page: {page_count}', end=\"\\r\")\n",
    "            except:\n",
    "                continue\n",
    "            "
   ]
  },
  {
   "cell_type": "code",
   "execution_count": null,
   "metadata": {},
   "outputs": [],
   "source": []
  }
 ],
 "metadata": {
  "kernelspec": {
   "display_name": "Python 3",
   "language": "python",
   "name": "python3"
  },
  "language_info": {
   "codemirror_mode": {
    "name": "ipython",
    "version": 3
   },
   "file_extension": ".py",
   "mimetype": "text/x-python",
   "name": "python",
   "nbconvert_exporter": "python",
   "pygments_lexer": "ipython3",
   "version": "3.11.5"
  }
 },
 "nbformat": 4,
 "nbformat_minor": 2
}
