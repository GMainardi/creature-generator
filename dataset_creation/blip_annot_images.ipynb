{
 "cells": [
  {
   "cell_type": "code",
   "execution_count": 4,
   "metadata": {},
   "outputs": [],
   "source": [
    "from transformers import AutoProcessor, BlipForConditionalGeneration\n",
    "\n",
    "processor = AutoProcessor.from_pretrained(\"Salesforce/blip-image-captioning-base\")\n",
    "model = BlipForConditionalGeneration.from_pretrained(\"blip-finetuned\")"
   ]
  },
  {
   "cell_type": "code",
   "execution_count": 5,
   "metadata": {},
   "outputs": [],
   "source": [
    "import os\n",
    "import base64\n",
    "\n",
    "def save_annot(image, annot):\n",
    "    # create a folder with image name and save the annot.txt file with the blip annotation and the image.txt file with the base64 encoded image\n",
    "    image_name = image.split(\"/\")[-1].split(\".\")[0]\n",
    "\n",
    "    data_path = os.path.join('data', image_name)\n",
    "    if not os.path.exists(data_path):\n",
    "        \n",
    "        os.mkdir(data_path)\n",
    "\n",
    "    else:\n",
    "        return\n",
    "\n",
    "    with open(os.path.join(data_path, \"annotation.txt\"), \"w\") as f:\n",
    "        f.write(annot)\n",
    "    \n",
    "    base64_image = base64.b64encode(open(image, \"rb\").read())\n",
    "\n",
    "    with open(os.path.join(data_path, \"image.txt\"), \"w\") as f:\n",
    "        f.write(base64_image.decode(\"utf-8\"))"
   ]
  },
  {
   "cell_type": "code",
   "execution_count": 6,
   "metadata": {},
   "outputs": [
    {
     "name": "stderr",
     "output_type": "stream",
     "text": [
      "100%|██████████| 16647/16647 [8:41:49<00:00,  1.88s/it]  \n"
     ]
    }
   ],
   "source": [
    "from PIL import Image\n",
    "import time\n",
    "from tqdm import tqdm\n",
    "import torch\n",
    "\n",
    "device = \"cuda\" if torch.cuda.is_available() else \"cpu\"\n",
    "\n",
    "for image_name in tqdm(os.listdir(\"images\")):\n",
    "\n",
    "    if image_name == \".DS_Store\":\n",
    "        continue\n",
    "\n",
    "    image_path = os.path.join(\"images\", image_name)\n",
    "\n",
    "    image = Image.open(image_path)\n",
    "\n",
    "    inputs = processor(images=image, return_tensors=\"pt\").to(device)\n",
    "    pixel_values = inputs.pixel_values\n",
    "\n",
    "    generated_ids = model.generate(pixel_values=pixel_values, max_length=50)\n",
    "    generated_caption = processor.batch_decode(generated_ids, skip_special_tokens=True)[0]\n",
    "\n",
    "    save_annot(image_path, generated_caption)\n",
    "\n",
    "    os.remove(image_path)\n",
    "    "
   ]
  },
  {
   "cell_type": "markdown",
   "metadata": {},
   "source": []
  }
 ],
 "metadata": {
  "kernelspec": {
   "display_name": "Python 3",
   "language": "python",
   "name": "python3"
  },
  "language_info": {
   "codemirror_mode": {
    "name": "ipython",
    "version": 3
   },
   "file_extension": ".py",
   "mimetype": "text/x-python",
   "name": "python",
   "nbconvert_exporter": "python",
   "pygments_lexer": "ipython3",
   "version": "3.11.5"
  }
 },
 "nbformat": 4,
 "nbformat_minor": 2
}
