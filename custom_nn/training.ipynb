{
 "cells": [
  {
   "cell_type": "code",
   "execution_count": 1,
   "metadata": {},
   "outputs": [],
   "source": [
    "from dataset import Dataset\n",
    "\n",
    "dataset_file = 'few_shot.txt'\n",
    "dataset = Dataset(dataset_file)\n",
    "train, test = dataset.train_test_split(test_size=0.1)"
   ]
  },
  {
   "cell_type": "code",
   "execution_count": 2,
   "metadata": {},
   "outputs": [],
   "source": [
    "from tokenizer import Tokenizer\n",
    "\n",
    "tokenizer = Tokenizer(dataset_file)\n",
    "\n",
    "train, test = tokenizer.tokenize(train), tokenizer.tokenize(test)"
   ]
  },
  {
   "cell_type": "code",
   "execution_count": null,
   "metadata": {},
   "outputs": [],
   "source": [
    "n_embed = 64\n",
    "batch_size = 64    \n",
    "block_size = 256\n",
    "max_iters = 5_000\n",
    "eval_interval = 500\n",
    "learning_rate = 3e-4\n",
    "eval_iters = 100\n",
    "n_embed = 384\n",
    "n_heads = 6\n",
    "n_layers = 6\n"
   ]
  },
  {
   "cell_type": "code",
   "execution_count": null,
   "metadata": {},
   "outputs": [],
   "source": [
    "from attention_model import LanguageModel, BigramLanguageModel\n",
    "\n",
    "model = LanguageModel(\n",
    "    vocab_size=tokenizer.vocab_size,\n",
    "    n_embed=n_embed,\n",
    "    block_size=block_size,  \n",
    "    eval_iters=eval_iters,\n",
    "    batch_size=batch_size,\n",
    "    n_layers=n_layers,\n",
    "    n_head=n_heads\n",
    ")\n",
    "'''\n",
    "model = BigramLanguageModel(\n",
    "    vocab_size=tokenizer.vocab_size,\n",
    "    n_embed=n_embed,\n",
    "    block_size=block_size,  \n",
    "    eval_iters=eval_iters,\n",
    "    batch_size=batch_size,\n",
    ")\n",
    "\n",
    "'''"
   ]
  },
  {
   "cell_type": "code",
   "execution_count": null,
   "metadata": {},
   "outputs": [
    {
     "name": "stderr",
     "output_type": "stream",
     "text": [
      "huggingface/tokenizers: The current process just got forked, after parallelism has already been used. Disabling parallelism to avoid deadlocks...\n",
      "To disable this warning, you can either:\n",
      "\t- Avoid using `tokenizers` before the fork if possible\n",
      "\t- Explicitly set the environment variable TOKENIZERS_PARALLELISM=(true | false)\n",
      "  0%|          | 0/50 [00:00<?, ?it/s]"
     ]
    },
    {
     "name": "stdout",
     "output_type": "stream",
     "text": [
      "step: 0, train loss: 10.9832, eval loss: 10.9830\n"
     ]
    },
    {
     "name": "stderr",
     "output_type": "stream",
     "text": [
      "100%|██████████| 50/50 [11:16<00:00, 13.52s/it]"
     ]
    },
    {
     "name": "stdout",
     "output_type": "stream",
     "text": [
      "7.799839019775391\n"
     ]
    },
    {
     "name": "stderr",
     "output_type": "stream",
     "text": [
      "\n"
     ]
    }
   ],
   "source": [
    "import torch\n",
    "from tqdm import tqdm\n",
    "\n",
    "optimizer = torch.optim.Adam(model.parameters(), lr=learning_rate)\n",
    "\n",
    "log_loss = []\n",
    "for steps in tqdm(range(max_iters)):\n",
    "\n",
    "\n",
    "    if steps % eval_interval == 0:\n",
    "        losses = model.estimate_loss(\n",
    "            train, \n",
    "            test\n",
    "        )\n",
    "        train_loss = losses['train']\n",
    "        eval_loss = losses['eval']\n",
    "        log_loss.append(eval_loss)\n",
    "        print(f'step: {steps}, train loss: {train_loss:.4f}, eval loss: {eval_loss:.4f}')\n",
    "    \n",
    "    xb, yb = dataset.get_batch(\n",
    "        train, \n",
    "        batch_size=batch_size, \n",
    "        block_size=block_size\n",
    "    )\n",
    "\n",
    "\n",
    "    logits, loss = model(xb, yb)\n",
    "\n",
    "    optimizer.zero_grad(set_to_none=True)\n",
    "    loss.backward()\n",
    "    optimizer.step()\n",
    "\n",
    "print(loss.item())"
   ]
  },
  {
   "cell_type": "code",
   "execution_count": null,
   "metadata": {},
   "outputs": [
    {
     "data": {
      "image/png": "[encoded data removed]",
      "text/plain": [
       "<Figure size 640x480 with 1 Axes>"
      ]
     },
     "metadata": {},
     "output_type": "display_data"
    }
   ],
   "source": [
    "import matplotlib.pyplot as plt\n",
    "\n",
    "# create a line plot with losses on the vertical axis and steps on the horizontal axis\n",
    "plt.plot(range(0, max_iters, eval_interval), log_loss)\n",
    "plt.xlabel('steps')\n",
    "plt.ylabel('loss')\n",
    "plt.title('language model training loss')\n",
    "plt.show()"
   ]
  },
  {
   "cell_type": "code",
   "execution_count": null,
   "metadata": {},
   "outputs": [],
   "source": [
    "prompt = '''<human>: create a green warm.\n",
    "<assistant>: '''\n",
    "\n",
    "tokenized = tokenizer.tokenize(prompt)\n",
    "\n",
    "input = torch.tensor([tokenized.tolist()], dtype=torch.long)"
   ]
  },
  {
   "cell_type": "code",
   "execution_count": null,
   "metadata": {},
   "outputs": [],
   "source": [
    "preds = model.generate(input, 5000)"
   ]
  },
  {
   "cell_type": "code",
   "execution_count": null,
   "metadata": {},
   "outputs": [
    {
     "name": "stdout",
     "output_type": "stream",
     "text": [
      "<human>: create a green warm.\n",
      "<assistant>: OM4WAaYglXYUT38oJWQC0LzOaUtW7u8MjFe+M101NsydeXFSJ94CgtfQcbyBHjcsHlF3XlpNSRa73nHQwUQORB\n"
     ]
    }
   ],
   "source": [
    "print(tokenizer.detokenize(preds))"
   ]
  },
  {
   "cell_type": "code",
   "execution_count": null,
   "metadata": {},
   "outputs": [],
   "source": []
  }
 ],
 "metadata": {
  "kernelspec": {
   "display_name": ".venv",
   "language": "python",
   "name": "python3"
  },
  "language_info": {
   "codemirror_mode": {
    "name": "ipython",
    "version": 3
   },
   "file_extension": ".py",
   "mimetype": "text/x-python",
   "name": "python",
   "nbconvert_exporter": "python",
   "pygments_lexer": "ipython3",
   "version": "3.9.6"
  }
 },
 "nbformat": 4,
 "nbformat_minor": 2
}
